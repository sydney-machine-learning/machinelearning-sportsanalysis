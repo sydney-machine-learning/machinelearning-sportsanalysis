{
 "cells": [
  {
   "cell_type": "code",
   "execution_count": 1,
   "id": "00039e04",
   "metadata": {},
   "outputs": [],
   "source": [
    "from selenium.webdriver.common.by import By\n",
    "from selenium import webdriver\n",
    "from selenium.webdriver.support.ui import Select\n",
    "from bs4 import BeautifulSoup\n",
    "import pandas as pd\n",
    "import time"
   ]
  },
  {
   "cell_type": "code",
   "execution_count": 15,
   "id": "aafc0749",
   "metadata": {},
   "outputs": [],
   "source": [
    "\n",
    "\n",
    "#find the advanced data of all players from year_a to year_b\n",
    "def find_advanced(year_a,year_b):\n",
    "\n",
    "    year_gap = year_b - year_a\n",
    "    year_to_2022 = 2022 - year_b\n",
    "    \n",
    "    for i in range(year_gap+1):\n",
    "        # open the browser\n",
    "        driver = webdriver.Firefox()\n",
    "        url = r\"https://www.nba.com/stats/players/advanced/?sort=GP&dir=-1&Season=2021-22&SeasonType=Regular%20Season\"\n",
    "        driver.get(url)\n",
    "        #select a year\n",
    "        time.sleep(5)\n",
    "        select = Select(driver.find_element(By.XPATH,\"/html/body/main/div/div/div[2]/div/div/div[1]/div[1]/div/div/label/select\"))\n",
    "        select.select_by_index(i+year_to_2022)\n",
    "        \n",
    "        time.sleep(10)\n",
    "        # select the page number to all\n",
    "        select = Select(driver.find_element(By.XPATH,\"/html/body/main/div/div/div[2]/div/div/nba-stat-table/div[1]/div/div/select\"))\n",
    "        select.select_by_index(0)\n",
    "        \n",
    "        #find the table \n",
    "        src = driver.page_source\n",
    "        parser = BeautifulSoup(src,\"lxml\")\n",
    "        table = parser.find(\"div\",attrs = {\"class\" : \"nba-stat-table__overflow\"})\n",
    "        \n",
    "        #find the header of the table and remove the attributes that are not shown\n",
    "        headers = table.find_all('th')\n",
    "        headerlist = [h.text.strip() for h in headers[1:]]\n",
    "        headerlist1 = [a for a in headerlist if not \"RANK\" in a]\n",
    "        \n",
    "        #get the data of from all the data cells\n",
    "        rows = table.findAll('tr')[1:]\n",
    "        player_stats = [[td.getText().strip() for td in rows[i].findAll('td')[1:]] for i in range(len(rows))]\n",
    "        \n",
    "        #drop the last 5 attributes that are hidden in the table \n",
    "        headerlist1 = headerlist1[:-5]\n",
    "        \n",
    "        #drop the data into the pdDataFrame\n",
    "        stats = pd.DataFrame(player_stats,columns=headerlist1)\n",
    "        \n",
    "        #add the year infront of the player's name\n",
    "        def add_year(x):\n",
    "            return \"_\"+str(year_b - i)+\"_\"+x\n",
    "        stats[\"PLAYER\"] = stats[\"PLAYER\"].map(add_year)\n",
    "        #save the data as an excel table\n",
    "        pd.DataFrame.to_excel(stats,\"./newdata/advanced\"+str(year_b-i)+\".xlsx\")\n",
    "        driver.close()\n",
    "        print(\"data of \"+str(year_b-i)+\" has been saved\")\n",
    "    return"
   ]
  },
  {
   "cell_type": "code",
   "execution_count": 24,
   "id": "ee40280f",
   "metadata": {},
   "outputs": [
    {
     "name": "stdout",
     "output_type": "stream",
     "text": [
      "data of 2014 has been saved\n",
      "data of 2013 has been saved\n"
     ]
    }
   ],
   "source": [
    "find_advanced(2013,2014)"
   ]
  },
  {
   "cell_type": "code",
   "execution_count": 9,
   "id": "1aa756ba",
   "metadata": {},
   "outputs": [],
   "source": [
    "#find the regular data per game of all players from year_a to year_b\n",
    "def find_regular_pg(year_a,year_b):\n",
    "\n",
    "    year_gap = year_b - year_a\n",
    "    year_to_2022 = 2022 - year_b\n",
    "    \n",
    "    for i in range(year_gap+1):\n",
    "        driver = webdriver.Firefox()\n",
    "        url = r\"https://www.nba.com/stats/players/traditional/?SeasonType=Regular%20Season&sort=PTS&dir=-1&Season=2021-22\"\n",
    "        driver.get(url)\n",
    "        \n",
    "        #select a year\n",
    "        time.sleep(5)\n",
    "        select = Select(driver.find_element(By.XPATH,\"/html/body/main/div/div/div[2]/div/div/div[1]/div[1]/div/div/label/select\"))\n",
    "        select.select_by_index(i+year_to_2022)\n",
    "        \n",
    "        time.sleep(10)\n",
    "        # select the page number to all\n",
    "        select = Select(driver.find_element(By.XPATH,\"/html/body/main/div/div/div[2]/div/div/nba-stat-table/div[1]/div/div/select\"))\n",
    "        select.select_by_index(0)\n",
    "        \n",
    "        #find the table \n",
    "        src = driver.page_source\n",
    "        parser = BeautifulSoup(src,\"lxml\")\n",
    "        table = parser.find(\"div\",attrs = {\"class\" : \"nba-stat-table__overflow\"})\n",
    "        \n",
    "        #find the header of the table and remove the attributes that are not shown\n",
    "        headers = table.find_all('th')\n",
    "        headerlist = [h.text.strip() for h in headers[1:]]\n",
    "        headerlist1 = [a for a in headerlist if not \"RANK\" in a]\n",
    "        \n",
    "        #get the data of from all the data cells\n",
    "        rows = table.findAll('tr')[1:]\n",
    "        player_stats = [[td.getText().strip() for td in rows[i].findAll('td')[1:]] for i in range(len(rows))]\n",
    "        \n",
    "        #drop the data into the pdDataFrame\n",
    "        stats = pd.DataFrame(player_stats,columns=headerlist1)\n",
    "        \n",
    "        #add the year infront of the player's name\n",
    "        def add_year(x):\n",
    "            return \"_\"+str(year_b - i)+\"_\"+x\n",
    "        stats[\"PLAYER\"] = stats[\"PLAYER\"].map(add_year)\n",
    "        #save the data as an excel table\n",
    "        pd.DataFrame.to_excel(stats,\"./newdata/per_game_regular\"+str(year_b-i)+\".xlsx\")\n",
    "        driver.close()\n",
    "        print(\"data of \"+str(year_b-i)+\" has been saved\")\n",
    "    return"
   ]
  },
  {
   "cell_type": "code",
   "execution_count": 10,
   "id": "19524123",
   "metadata": {},
   "outputs": [
    {
     "name": "stdout",
     "output_type": "stream",
     "text": [
      "data of 2022 has been saved\n",
      "data of 2021 has been saved\n",
      "data of 2020 has been saved\n",
      "data of 2019 has been saved\n",
      "data of 2018 has been saved\n",
      "data of 2017 has been saved\n",
      "data of 2016 has been saved\n",
      "data of 2015 has been saved\n",
      "data of 2014 has been saved\n",
      "data of 2013 has been saved\n",
      "data of 2012 has been saved\n",
      "data of 2011 has been saved\n",
      "data of 2010 has been saved\n",
      "data of 2009 has been saved\n",
      "data of 2008 has been saved\n",
      "data of 2007 has been saved\n",
      "data of 2006 has been saved\n",
      "data of 2005 has been saved\n",
      "data of 2004 has been saved\n",
      "data of 2003 has been saved\n",
      "data of 2002 has been saved\n",
      "data of 2001 has been saved\n",
      "data of 2000 has been saved\n"
     ]
    }
   ],
   "source": [
    "find_regular_pg(2000,2022)"
   ]
  },
  {
   "cell_type": "code",
   "execution_count": 13,
   "id": "864a95ed",
   "metadata": {},
   "outputs": [
    {
     "name": "stdout",
     "output_type": "stream",
     "text": [
      "data of 2022 has been saved\n",
      "data of 2021 has been saved\n",
      "data of 2020 has been saved\n",
      "data of 2019 has been saved\n",
      "data of 2018 has been saved\n",
      "data of 2017 has been saved\n",
      "data of 2016 has been saved\n",
      "data of 2015 has been saved\n"
     ]
    }
   ],
   "source": [
    "find_regular_pg(2015,2022)"
   ]
  },
  {
   "cell_type": "code",
   "execution_count": 14,
   "id": "f1aa6a84",
   "metadata": {},
   "outputs": [
    {
     "name": "stdout",
     "output_type": "stream",
     "text": [
      "data of 2015 has been saved\n",
      "data of 2014 has been saved\n",
      "data of 2013 has been saved\n",
      "data of 2012 has been saved\n",
      "data of 2011 has been saved\n",
      "data of 2010 has been saved\n",
      "data of 2009 has been saved\n",
      "data of 2008 has been saved\n",
      "data of 2007 has been saved\n",
      "data of 2006 has been saved\n",
      "data of 2005 has been saved\n",
      "data of 2004 has been saved\n",
      "data of 2003 has been saved\n",
      "data of 2002 has been saved\n",
      "data of 2001 has been saved\n",
      "data of 2000 has been saved\n"
     ]
    }
   ],
   "source": [
    "find_regular_pg(2000,2015)"
   ]
  },
  {
   "cell_type": "code",
   "execution_count": 14,
   "id": "f20948aa",
   "metadata": {},
   "outputs": [],
   "source": [
    "#find the regular data per game of all players from year_a to year_b\n",
    "def find_regular_p100(year_a,year_b):\n",
    "\n",
    "    year_gap = year_b - year_a\n",
    "    year_to_2022 = 2022 - year_b\n",
    "    \n",
    "    for i in range(year_gap+1):\n",
    "        driver = webdriver.Firefox()\n",
    "        url = \"https://www.nba.com/stats/players/traditional/?sort=PTS&dir=-1&Season=2021-22&SeasonType=Regular%20Season\"\n",
    "        driver.get(url)\n",
    "        \n",
    "        #choose year\n",
    "        time.sleep(10)\n",
    "        select = Select(driver.find_element(By.XPATH,\"/html/body/main/div/div/div[2]/div/div/div[1]/div[1]/div/div/label/select\"))\n",
    "        select.select_by_index(i+year_to_2022)\n",
    "        \n",
    "        #choose per 100 poss\n",
    "        time.sleep(10)\n",
    "        select = Select(driver.find_element(By.XPATH,\"/html/body/main/div/div/div[2]/div/div/div[1]/div[3]/div/div/label/select\"))\n",
    "        select.select_by_index(2)\n",
    "        \n",
    "        time.sleep(10)\n",
    "        # select the page number to all\n",
    "        select = Select(driver.find_element(By.XPATH,\"/html/body/main/div/div/div[2]/div/div/nba-stat-table/div[1]/div/div/select\"))\n",
    "        select.select_by_index(0)\n",
    "        \n",
    "        #find the table \n",
    "        src = driver.page_source\n",
    "        parser = BeautifulSoup(src,\"lxml\")\n",
    "        table = parser.find(\"div\",attrs = {\"class\" : \"nba-stat-table__overflow\"})\n",
    "        \n",
    "        #find the header of the table and remove the attributes that are not shown\n",
    "        headers = table.find_all('th')\n",
    "        headerlist = [h.text.strip() for h in headers[1:]]\n",
    "        headerlist1 = [a for a in headerlist if not \"RANK\" in a]\n",
    "        \n",
    "        #get the data of from all the data cells\n",
    "        rows = table.findAll('tr')[1:]\n",
    "        player_stats = [[td.getText().strip() for td in rows[i].findAll('td')[1:]] for i in range(len(rows))]\n",
    "        \n",
    "        #drop the data into the pdDataFrame\n",
    "        stats = pd.DataFrame(player_stats,columns=headerlist1)\n",
    "        \n",
    "        #add the year infront of the player's name\n",
    "        def add_year(x):\n",
    "            return \"_\"+str(year_b - i)+\"_\"+x\n",
    "        stats[\"PLAYER\"] = stats[\"PLAYER\"].map(add_year)\n",
    "        #save the data as an excel table\n",
    "        pd.DataFrame.to_excel(stats,\"./newdata/per_100_regular\"+str(year_b-i)+\".xlsx\")\n",
    "        driver.close()\n",
    "        print(\"data of \"+str(year_b-i)+\" has been saved\")\n",
    "    return"
   ]
  },
  {
   "cell_type": "code",
   "execution_count": 8,
   "id": "60cff5cc",
   "metadata": {},
   "outputs": [
    {
     "name": "stdout",
     "output_type": "stream",
     "text": [
      "data of 2022 has been saved\n",
      "data of 2021 has been saved\n",
      "data of 2020 has been saved\n",
      "data of 2019 has been saved\n",
      "data of 2018 has been saved\n",
      "data of 2017 has been saved\n",
      "data of 2016 has been saved\n",
      "data of 2015 has been saved\n",
      "data of 2014 has been saved\n",
      "data of 2013 has been saved\n",
      "data of 2012 has been saved\n"
     ]
    }
   ],
   "source": [
    "find_regular_p100(2012,2022)"
   ]
  },
  {
   "cell_type": "code",
   "execution_count": 16,
   "id": "3781ca49",
   "metadata": {},
   "outputs": [
    {
     "name": "stdout",
     "output_type": "stream",
     "text": [
      "data of 2022 has been saved\n",
      "data of 2021 has been saved\n",
      "data of 2020 has been saved\n",
      "data of 2019 has been saved\n",
      "data of 2018 has been saved\n",
      "data of 2017 has been saved\n",
      "data of 2016 has been saved\n",
      "data of 2015 has been saved\n",
      "data of 2014 has been saved\n",
      "data of 2013 has been saved\n",
      "data of 2012 has been saved\n",
      "data of 2011 has been saved\n",
      "data of 2010 has been saved\n"
     ]
    }
   ],
   "source": [
    "find_regular_p100(2010,2022)"
   ]
  },
  {
   "cell_type": "code",
   "execution_count": 4,
   "id": "aa38d49e",
   "metadata": {},
   "outputs": [],
   "source": [
    "def find_regular_total(year_a,year_b):\n",
    "\n",
    "    year_gap = year_b - year_a\n",
    "    year_to_2022 = 2022 - year_b\n",
    "    \n",
    "    for i in range(year_gap+1):\n",
    "        driver = webdriver.Firefox()\n",
    "        url = \"https://www.nba.com/stats/players/traditional/?SeasonType=Regular%20Season&sort=PTS&dir=-1&Season=2021-22&PerMode=Totals\"\n",
    "        driver.get(url)\n",
    "        \n",
    "        #choose year\n",
    "        time.sleep(10)\n",
    "        select = Select(driver.find_element(By.XPATH,\"/html/body/main/div/div/div[2]/div/div/div[1]/div[1]/div/div/label/select\"))\n",
    "        select.select_by_index(i+year_to_2022)\n",
    "        \n",
    "        time.sleep(10)\n",
    "        # select the page number to all\n",
    "        select = Select(driver.find_element(By.XPATH,\"/html/body/main/div/div/div[2]/div/div/nba-stat-table/div[1]/div/div/select\"))\n",
    "        select.select_by_index(0)\n",
    "        \n",
    "        #find the table \n",
    "        src = driver.page_source\n",
    "        parser = BeautifulSoup(src,\"lxml\")\n",
    "        table = parser.find(\"div\",attrs = {\"class\" : \"nba-stat-table__overflow\"})\n",
    "        \n",
    "        #find the header of the table and remove the attributes that are not shown\n",
    "        headers = table.find_all('th')\n",
    "        headerlist = [h.text.strip() for h in headers[1:]]\n",
    "        headerlist1 = [a for a in headerlist if not \"RANK\" in a]\n",
    "        \n",
    "        #get the data of from all the data cells\n",
    "        rows = table.findAll('tr')[1:]\n",
    "        player_stats = [[td.getText().strip() for td in rows[i].findAll('td')[1:]] for i in range(len(rows))]\n",
    "        \n",
    "        #drop the data into the pdDataFrame\n",
    "        stats = pd.DataFrame(player_stats,columns=headerlist1)\n",
    "        \n",
    "        #add the year infront of the player's name\n",
    "        def add_year(x):\n",
    "            return \"_\"+str(year_b - i)+\"_\"+x\n",
    "        stats[\"PLAYER\"] = stats[\"PLAYER\"].map(add_year)\n",
    "        #save the data as an excel table\n",
    "        pd.DataFrame.to_excel(stats,\"./project_data/regular_total_data/\"+\"regular_total\"+str(year_b-i)+\".xlsx\")\n",
    "        driver.close()\n",
    "        print(\"data of \"+str(year_b-i)+\" has been saved\")\n",
    "    return"
   ]
  },
  {
   "cell_type": "code",
   "execution_count": 5,
   "id": "7f0382a2",
   "metadata": {},
   "outputs": [
    {
     "name": "stdout",
     "output_type": "stream",
     "text": [
      "data of 2018 has been saved\n",
      "data of 2017 has been saved\n",
      "data of 2016 has been saved\n",
      "data of 2015 has been saved\n",
      "data of 2014 has been saved\n",
      "data of 2013 has been saved\n",
      "data of 2012 has been saved\n",
      "data of 2011 has been saved\n",
      "data of 2010 has been saved\n",
      "data of 2009 has been saved\n",
      "data of 2008 has been saved\n",
      "data of 2007 has been saved\n",
      "data of 2006 has been saved\n",
      "data of 2005 has been saved\n",
      "data of 2004 has been saved\n",
      "data of 2003 has been saved\n",
      "data of 2002 has been saved\n",
      "data of 2001 has been saved\n",
      "data of 2000 has been saved\n"
     ]
    }
   ],
   "source": [
    "find_regular_total(2000,2018)"
   ]
  },
  {
   "cell_type": "code",
   "execution_count": null,
   "id": "91a79abe",
   "metadata": {},
   "outputs": [],
   "source": []
  }
 ],
 "metadata": {
  "kernelspec": {
   "display_name": "Python 3",
   "language": "python",
   "name": "python3"
  },
  "language_info": {
   "codemirror_mode": {
    "name": "ipython",
    "version": 3
   },
   "file_extension": ".py",
   "mimetype": "text/x-python",
   "name": "python",
   "nbconvert_exporter": "python",
   "pygments_lexer": "ipython3",
   "version": "3.8.8"
  }
 },
 "nbformat": 4,
 "nbformat_minor": 5
}
